{
 "cells": [
  {
   "cell_type": "code",
   "execution_count": 26,
   "metadata": {},
   "outputs": [],
   "source": [
    "import pandas\n",
    "from sqlalchemy import select, inspect\n",
    "from models import Works, Tags, engine\n",
    "from sqlalchemy.orm import Session\n",
    "import sqlite3\n",
    "\n"
   ]
  },
  {
   "cell_type": "code",
   "execution_count": 32,
   "metadata": {},
   "outputs": [
    {
     "name": "stdout",
     "output_type": "stream",
     "text": [
      "2023-03-13 21:52:26,508 INFO sqlalchemy.engine.Engine BEGIN (implicit)\n",
      "2023-03-13 21:52:26,509 INFO sqlalchemy.engine.Engine SELECT tags.title, works.last_updated \n",
      "FROM works JOIN tags ON works.id = tags.work_id\n",
      "2023-03-13 21:52:26,510 INFO sqlalchemy.engine.Engine [generated in 0.00065s] ()\n",
      "2023-03-13 21:52:26,512 INFO sqlalchemy.engine.Engine COMMIT\n"
     ]
    }
   ],
   "source": [
    "stmt = select(Tags.title, Works.last_updated).join(Tags)\n",
    "with engine.connect() as conn, conn.begin():\n",
    "    data = pandas.read_sql(stmt, conn)\n",
    "    "
   ]
  }
 ],
 "metadata": {
  "kernelspec": {
   "display_name": ".venv",
   "language": "python",
   "name": "python3"
  },
  "language_info": {
   "codemirror_mode": {
    "name": "ipython",
    "version": 3
   },
   "file_extension": ".py",
   "mimetype": "text/x-python",
   "name": "python",
   "nbconvert_exporter": "python",
   "pygments_lexer": "ipython3",
   "version": "3.8.10"
  },
  "orig_nbformat": 4
 },
 "nbformat": 4,
 "nbformat_minor": 2
}
