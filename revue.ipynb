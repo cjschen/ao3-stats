{
 "cells": [
  {
   "cell_type": "code",
   "execution_count": 33,
   "metadata": {},
   "outputs": [],
   "source": [
    "import pandas\n",
    "from sqlalchemy import select, inspect\n",
    "from models import Works, Tags, engine\n",
    "from sqlalchemy.orm import Session\n",
    "import sqlite3\n",
    "from constants import TAG_TYPES\n",
    "\n"
   ]
  },
  {
   "cell_type": "code",
   "execution_count": 37,
   "metadata": {},
   "outputs": [
    {
     "name": "stdout",
     "output_type": "stream",
     "text": [
      "2023-03-15 19:36:18,219 INFO sqlalchemy.engine.Engine BEGIN (implicit)\n",
      "2023-03-15 19:36:18,220 INFO sqlalchemy.engine.Engine SELECT tags.title, works.last_updated \n",
      "FROM works JOIN tags ON works.id = tags.work_id \n",
      "WHERE tags.type = ?\n",
      "2023-03-15 19:36:18,220 INFO sqlalchemy.engine.Engine [cached since 182.3s ago] (1,)\n",
      "2023-03-15 19:36:18,222 INFO sqlalchemy.engine.Engine SELECT tags.title, works.last_updated \n",
      "FROM works JOIN tags ON works.id = tags.work_id \n",
      "WHERE tags.type = ?\n",
      "2023-03-15 19:36:18,222 INFO sqlalchemy.engine.Engine [cached since 182.3s ago] (1,)\n",
      "2023-03-15 19:36:18,223 INFO sqlalchemy.engine.Engine COMMIT\n"
     ]
    }
   ],
   "source": [
    "stmt = select(Tags.title, Works.last_updated).join(Tags).where(Tags.type == TAG_TYPES['character'])\n",
    "with engine.connect() as conn, conn.begin():\n",
    "    sqldata = conn.execute(stmt).mappings().all()\n",
    "    data = pandas.read_sql(stmt, conn)\n",
    "\n",
    "\n",
    "    "
   ]
  }
 ],
 "metadata": {
  "kernelspec": {
   "display_name": ".venv",
   "language": "python",
   "name": "python3"
  },
  "language_info": {
   "codemirror_mode": {
    "name": "ipython",
    "version": 3
   },
   "file_extension": ".py",
   "mimetype": "text/x-python",
   "name": "python",
   "nbconvert_exporter": "python",
   "pygments_lexer": "ipython3",
   "version": "3.8.10"
  },
  "orig_nbformat": 4
 },
 "nbformat": 4,
 "nbformat_minor": 2
}
